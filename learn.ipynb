{
 "cells": [
  {
   "cell_type": "code",
   "execution_count": 2,
   "metadata": {},
   "outputs": [],
   "source": [
    "import torch\n",
    "from tqdm import tqdm"
   ]
  },
  {
   "cell_type": "code",
   "execution_count": 4,
   "metadata": {},
   "outputs": [],
   "source": [
    "x = torch.tensor(\n",
    "    [[2104, 5, 1, 45], [1416, 3, 2, 40], [852, 2, 1, 35]], dtype=torch.float32\n",
    ")\n",
    "y = torch.tensor([460, 232, 178], dtype=torch.float32)\n",
    "w = torch.zeros(x.shape[1], requires_grad=True)\n",
    "b = torch.tensor(0.0, requires_grad=True)"
   ]
  },
  {
   "cell_type": "code",
   "execution_count": 3,
   "metadata": {},
   "outputs": [],
   "source": [
    "l = 5.0e-7"
   ]
  },
  {
   "cell_type": "code",
   "execution_count": 11,
   "metadata": {},
   "outputs": [],
   "source": [
    "class MultipleLinearRegression:\n",
    "    def __init__(self, t_in, t_out):\n",
    "        self._in = t_in\n",
    "        self._out = t_out\n",
    "        self.w = torch.zeros(t_in.shape[1], requires_grad=True)\n",
    "        self.b = torch.tensor(0.0, requires_grad=True)\n",
    "\n",
    "    def __repr__(self) -> str:\n",
    "        return f\"MultipleLinearRegression(weights={self.w},bias={self.b})\"\n",
    "\n",
    "    @property\n",
    "    def _loss(self):\n",
    "        loss = 0.0\n",
    "        for i in range(self._in.shape[0]):\n",
    "            loss += torch.square(\n",
    "                (torch.dot(self._in[i], self.w) + self.b) - self._out[i]\n",
    "            )\n",
    "        return loss / (2 * self._in.shape[0])\n",
    "\n",
    "    def train(self, epochs, l_rate):\n",
    "        for _ in tqdm(range(epochs),delay=0.25,total=epochs,desc=\"Training Process\"):\n",
    "            self._loss.backward()\n",
    "            with torch.no_grad():\n",
    "                self.w -= l_rate * self.w.grad\n",
    "                self.b -= l_rate * self.b.grad\n",
    "                self.w.grad.zero_()\n",
    "                self.b.grad.zero_()\n",
    "\n",
    "    def predict(self, x, y):\n",
    "        for i in range(x.shape[0]):\n",
    "            pred = torch.dot(x[i], self.w) + self.b\n",
    "            print(\n",
    "                f\"Predicted {pred:0.2f}    Expected {y[i]}  Diff {torch.abs(pred - y[i])}\"\n",
    "            )\n",
    "\n",
    "    @staticmethod\n",
    "    def normalize(x):\n",
    "        std = torch.std(x, dim=0)\n",
    "        mean = torch.mean(x, dim=0)\n",
    "        x_norm = (x - mean) / std\n",
    "        return x_norm, mean, std"
   ]
  },
  {
   "cell_type": "code",
   "execution_count": 5,
   "metadata": {},
   "outputs": [],
   "source": [
    "model = MultipleLinearRegression(x,y)"
   ]
  },
  {
   "cell_type": "code",
   "execution_count": 6,
   "metadata": {},
   "outputs": [
    {
     "data": {
      "text/plain": [
       "MultipleLinearRegression(weights=tensor([0., 0., 0., 0.], requires_grad=True),bias=0.0)"
      ]
     },
     "execution_count": 6,
     "metadata": {},
     "output_type": "execute_result"
    }
   ],
   "source": [
    "model"
   ]
  },
  {
   "cell_type": "code",
   "execution_count": 7,
   "metadata": {},
   "outputs": [],
   "source": [
    "model.train(1000,l)"
   ]
  },
  {
   "cell_type": "code",
   "execution_count": 8,
   "metadata": {},
   "outputs": [
    {
     "name": "stdout",
     "output_type": "stream",
     "text": [
      "Predicted 426.19    Expected 460.0  Diff 33.814666748046875\n",
      "Predicted 286.17    Expected 232.0  Diff 54.167510986328125\n",
      "Predicted 171.47    Expected 178.0  Diff 6.5323486328125\n"
     ]
    }
   ],
   "source": [
    "model.predict(x,y)"
   ]
  },
  {
   "cell_type": "code",
   "execution_count": 9,
   "metadata": {},
   "outputs": [
    {
     "data": {
      "text/plain": [
       "MultipleLinearRegression(weights=tensor([ 0.2040,  0.0037, -0.0112, -0.0659], requires_grad=True),bias=-0.0022354077082127333)"
      ]
     },
     "execution_count": 9,
     "metadata": {},
     "output_type": "execute_result"
    }
   ],
   "source": [
    "model"
   ]
  }
 ],
 "metadata": {
  "kernelspec": {
   "display_name": ".venv",
   "language": "python",
   "name": "python3"
  },
  "language_info": {
   "codemirror_mode": {
    "name": "ipython",
    "version": 3
   },
   "file_extension": ".py",
   "mimetype": "text/x-python",
   "name": "python",
   "nbconvert_exporter": "python",
   "pygments_lexer": "ipython3",
   "version": "3.11.8"
  }
 },
 "nbformat": 4,
 "nbformat_minor": 2
}

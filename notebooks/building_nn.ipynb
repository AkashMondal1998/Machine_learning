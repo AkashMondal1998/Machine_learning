{
 "cells": [
  {
   "cell_type": "code",
   "execution_count": null,
   "metadata": {},
   "outputs": [],
   "source": [
    "import numpy as np"
   ]
  },
  {
   "cell_type": "code",
   "execution_count": null,
   "metadata": {},
   "outputs": [],
   "source": [
    "with open(\"mnist_data/X.npy\", \"rb\") as f:\n",
    "    x_train = np.load(f)[:1000]\n",
    "\n",
    "with open(\"mnist_data/y.npy\", \"rb\") as f:\n",
    "    y_train = np.load(f)[:1000]"
   ]
  },
  {
   "cell_type": "code",
   "execution_count": null,
   "metadata": {},
   "outputs": [],
   "source": [
    "# Mean Squared Error\n",
    "class MSELoss:\n",
    "    def __call__(self, x, y):\n",
    "        assert y.shape == x.shape, \"mat1 and mat2 be must have same shape\"\n",
    "        return np.mean(np.square(x - y))"
   ]
  },
  {
   "cell_type": "code",
   "execution_count": null,
   "metadata": {},
   "outputs": [],
   "source": [
    "# Binary CrossEntropy Loss\n",
    "class BCELoss:\n",
    "    def __call__(self, x, y):\n",
    "        pass"
   ]
  },
  {
   "cell_type": "code",
   "execution_count": null,
   "metadata": {},
   "outputs": [],
   "source": [
    "# ReLU activation\n",
    "class ReLU:\n",
    "    def __call__(self, x):\n",
    "        return np.where(x > 0, x, 0)\n",
    "\n",
    "    def __repr__(self):\n",
    "        return f\"ReLU()\""
   ]
  },
  {
   "cell_type": "code",
   "execution_count": null,
   "metadata": {},
   "outputs": [],
   "source": [
    "# Sigmoid activation\n",
    "class Sigmoid:\n",
    "    def __call__(self, x):\n",
    "        max_x = np.max(x)\n",
    "        return np.exp(x - max_x) / (1 + np.exp(x - max_x))\n",
    "\n",
    "    def __repr__(self):\n",
    "        return f\"Sigmoid()\""
   ]
  },
  {
   "cell_type": "code",
   "execution_count": null,
   "metadata": {},
   "outputs": [],
   "source": []
  },
  {
   "cell_type": "code",
   "execution_count": null,
   "metadata": {},
   "outputs": [],
   "source": [
    "# build a Neuron\n",
    "# a neuron has weights and biases\n",
    "# and does a linear transformation using matrix multiplication\n",
    "\n",
    "\n",
    "class Neuron:\n",
    "    def __init__(self, in_features):\n",
    "        self._w = np.random.rand(in_features, 1)\n",
    "        self._b = np.random.rand(1, 1)\n",
    "\n",
    "    def __repr__(self):\n",
    "        return f\"Neuron(w={self._w.shape},b={self._b.shape})\"\n",
    "\n",
    "    def __call__(self, x):\n",
    "        return x @ self._w + self._b"
   ]
  },
  {
   "cell_type": "code",
   "execution_count": null,
   "metadata": {},
   "outputs": [],
   "source": [
    "# find a way to define a Layer which can hold any number of neurons\n",
    "\n",
    "\n",
    "class Layer:\n",
    "    def __init__(self, in_features, no_of_neurons):\n",
    "        self._in = in_features\n",
    "        self._neurons = tuple(Neuron(in_features) for _ in range(no_of_neurons))\n",
    "\n",
    "    def __repr__(self):\n",
    "        return f\"Layer(in_features = {self._in}, out_features = {len(self._neurons)})\"\n",
    "\n",
    "    def __call__(self, x):\n",
    "        assert x.ndim == 2, \"Input must be a 2D matrix\"\n",
    "        return np.concatenate(tuple(neuron(x) for neuron in self._neurons), axis=1)"
   ]
  },
  {
   "cell_type": "code",
   "execution_count": null,
   "metadata": {},
   "outputs": [],
   "source": [
    "# Base class\n",
    "class Base:\n",
    "    def __call__(self, x):\n",
    "        return self.forward(x)\n",
    "\n",
    "    def __repr__(self):\n",
    "        return str(vars(self))\n",
    "\n",
    "    def parameters(self):\n",
    "        for layer in vars(self).values():\n",
    "            if isinstance(layer, Layer):\n",
    "                for neuron in layer._neurons:\n",
    "                    yield neuron._w\n",
    "                    yield neuron._b"
   ]
  },
  {
   "cell_type": "code",
   "execution_count": null,
   "metadata": {},
   "outputs": [],
   "source": [
    "# neural network using Layer\n",
    "class Net(Base):\n",
    "    def __init__(self, in_features):\n",
    "        self.l1 = Layer(in_features, 3)\n",
    "        self.l2 = Layer(3, 1)\n",
    "        self.relu = ReLU()\n",
    "        self.sig = Sigmoid()\n",
    "\n",
    "    def forward(self, x):\n",
    "        x = self.relu(self.l1(x))\n",
    "        x = self.sig(self.l2(x))\n",
    "        return x"
   ]
  },
  {
   "cell_type": "code",
   "execution_count": null,
   "metadata": {},
   "outputs": [],
   "source": [
    "# Instantiate the Net class\n",
    "model = Net(x_train.shape[1])"
   ]
  },
  {
   "cell_type": "code",
   "execution_count": null,
   "metadata": {},
   "outputs": [],
   "source": [
    "model(x_train).shape"
   ]
  },
  {
   "cell_type": "code",
   "execution_count": null,
   "metadata": {},
   "outputs": [],
   "source": [
    "for param in model.parameters():\n",
    "    print(param.shape)"
   ]
  },
  {
   "cell_type": "code",
   "execution_count": null,
   "metadata": {},
   "outputs": [],
   "source": [
    "mse = MSELoss()\n",
    "loss = mse(model(x_train), y_train)"
   ]
  },
  {
   "cell_type": "code",
   "execution_count": null,
   "metadata": {},
   "outputs": [],
   "source": [
    "loss"
   ]
  },
  {
   "cell_type": "code",
   "execution_count": null,
   "metadata": {},
   "outputs": [],
   "source": []
  }
 ],
 "metadata": {
  "kernelspec": {
   "display_name": ".venv",
   "language": "python",
   "name": "python3"
  },
  "language_info": {
   "codemirror_mode": {
    "name": "ipython",
    "version": 3
   },
   "file_extension": ".py",
   "mimetype": "text/x-python",
   "name": "python",
   "nbconvert_exporter": "python",
   "pygments_lexer": "ipython3",
   "version": "3.11.8"
  }
 },
 "nbformat": 4,
 "nbformat_minor": 2
}

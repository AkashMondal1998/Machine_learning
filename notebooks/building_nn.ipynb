{
 "cells": [
  {
   "cell_type": "code",
   "execution_count": null,
   "metadata": {},
   "outputs": [],
   "source": [
    "import numpy as np"
   ]
  },
  {
   "cell_type": "code",
   "execution_count": null,
   "metadata": {},
   "outputs": [],
   "source": [
    "with open(\"mnist_data/X.npy\", \"rb\") as f:\n",
    "    x_train = np.load(f)\n",
    "\n",
    "with open(\"mnist_data/y.npy\", \"rb\") as f:\n",
    "    y_train = np.load(f)"
   ]
  },
  {
   "cell_type": "code",
   "execution_count": null,
   "metadata": {},
   "outputs": [],
   "source": [
    "# Mean Squared Error\n",
    "class MSELoss:\n",
    "    def __call__(self, x, y):\n",
    "        if x.shape != y.shape:\n",
    "            raise ValueError(\"mat1 and mat2 be must have same shape\")\n",
    "        return np.mean(np.square(x - y))"
   ]
  },
  {
   "cell_type": "code",
   "execution_count": null,
   "metadata": {},
   "outputs": [],
   "source": [
    "# Binary CrossEntropy Loss\n",
    "# handle numerical instabality\n",
    "class BCELoss:\n",
    "    def __call__(self, x, y):\n",
    "        if x.shape != y.shape:\n",
    "            raise ValueError(\"mat1 and mat2 be must have same shape\")\n",
    "        return np.mean(-y * np.log(x) + (1-y) * np.log(1-x))"
   ]
  },
  {
   "cell_type": "code",
   "execution_count": null,
   "metadata": {},
   "outputs": [],
   "source": [
    "# Softmax Loss\n",
    "# \n",
    "# \n",
    "class SoftMaxLoss():\n",
    "    \"\"\"\n",
    "        x is a m * n matrix where m is the number of training samples\n",
    "        n is the number of classes to predict \n",
    "        for every row in this m x n matrix is the prediction for the all the clasess by the model \n",
    "        for every classes \n",
    "        so [[1,2,4,5,5,11,2,31]] here are the predictions for one example after the softmax activation function\n",
    "        so for every label corresponding to a traning example we see the label and take the negative log \n",
    "        for the label^th column in the the traning example activation value\n",
    "        this gives us the loss for the traning example and we get back a \n",
    "        m x 1 matrix all the loss calculation and after that we that the average of the all the losses \n",
    "    \"\"\"\n",
    "    def __call__(self,x,y):\n",
    "        pass\n",
    "\n",
    "         \n"
   ]
  },
  {
   "cell_type": "code",
   "execution_count": null,
   "metadata": {},
   "outputs": [],
   "source": [
    "# ReLU activation\n",
    "class ReLU:\n",
    "    def __call__(self, x):\n",
    "        return np.where(x > 0, x, 0)\n",
    "\n",
    "    def __repr__(self):\n",
    "        return f\"ReLU()\""
   ]
  },
  {
   "cell_type": "code",
   "execution_count": null,
   "metadata": {},
   "outputs": [],
   "source": [
    "# Sigmoid activation\n",
    "class Sigmoid:\n",
    "    def __call__(self, x):\n",
    "        max_x = np.max(x)\n",
    "        return np.exp(x - max_x) / (1 + np.exp(x - max_x))\n",
    "\n",
    "    def __repr__(self):\n",
    "        return f\"Sigmoid()\""
   ]
  },
  {
   "cell_type": "code",
   "execution_count": null,
   "metadata": {},
   "outputs": [],
   "source": [
    "# build a Neuron\n",
    "# a neuron has weights and biases\n",
    "# and does a linear transformation using matrix multiplication\n",
    "class Neuron:\n",
    "    def __init__(self, in_features):\n",
    "        self._w = np.random.rand(in_features, 1)\n",
    "        self._b = np.random.rand(1, 1)\n",
    "\n",
    "    def __repr__(self):\n",
    "        return f\"Neuron(w={self._w.shape},b={self._b.shape})\"\n",
    "\n",
    "    def __call__(self, x):\n",
    "        return x @ self._w + self._b"
   ]
  },
  {
   "cell_type": "code",
   "execution_count": null,
   "metadata": {},
   "outputs": [],
   "source": [
    "# find a way to define a Layer which can hold any number of neurons\n",
    "class Layer:\n",
    "    def __init__(self, in_features, no_of_neurons):\n",
    "        self._in = in_features\n",
    "        self._neurons = tuple(Neuron(in_features) for _ in range(no_of_neurons))\n",
    "\n",
    "    def __repr__(self):\n",
    "        return f\"Layer(in_features = {self._in}, out_features = {len(self._neurons)})\"\n",
    "\n",
    "    def __call__(self, x):\n",
    "        if x.ndim != 2:\n",
    "            raise ValueError(\"Input must be a 2D matrix\") \n",
    "        return np.concatenate(tuple(neuron(x) for neuron in self._neurons), axis=1)"
   ]
  },
  {
   "cell_type": "code",
   "execution_count": null,
   "metadata": {},
   "outputs": [],
   "source": [
    "# Base class\n",
    "class Base:\n",
    "    def __repr__(self):\n",
    "        layers = (f\"({layer_name}): {layer}\" for layer_name,layer in vars(self).items())\n",
    "        return self.__class__.__name__ + '(\\n    ' + '\\n    '.join(layers) + '\\n)'\n",
    "    \n",
    "    def __call__(self, x):\n",
    "        return self.forward(x)\n",
    "\n",
    "    def parameters(self):\n",
    "        for layer in vars(self).values():\n",
    "            if isinstance(layer, Layer):\n",
    "                for neuron in layer._neurons:\n",
    "                    yield neuron._w\n",
    "                    yield neuron._b"
   ]
  },
  {
   "cell_type": "code",
   "execution_count": null,
   "metadata": {},
   "outputs": [],
   "source": [
    "# neural network using Layer\n",
    "class Net(Base):\n",
    "    def __init__(self, in_features):\n",
    "        self.l1 = Layer(in_features, 3)\n",
    "        self.relu = ReLU()\n",
    "        self.l2 = Layer(3, 10)\n",
    "\n",
    "    def forward(self, x):\n",
    "        x = self.relu(self.l1(x))\n",
    "        x = self.l2(x)\n",
    "        return x"
   ]
  },
  {
   "cell_type": "code",
   "execution_count": null,
   "metadata": {},
   "outputs": [],
   "source": [
    "# Instantiate the Net class\n",
    "model = Net(x_train.shape[1])"
   ]
  },
  {
   "cell_type": "code",
   "execution_count": null,
   "metadata": {},
   "outputs": [],
   "source": [
    "model"
   ]
  },
  {
   "cell_type": "code",
   "execution_count": null,
   "metadata": {},
   "outputs": [],
   "source": [
    "for par in model.parameters():\n",
    "    print(par.shape)"
   ]
  },
  {
   "cell_type": "code",
   "execution_count": null,
   "metadata": {},
   "outputs": [],
   "source": [
    "model(x_train[:1])"
   ]
  },
  {
   "cell_type": "code",
   "execution_count": null,
   "metadata": {},
   "outputs": [],
   "source": [
    "layers = (f\"({key}): {value}\" for key,value in vars(model).items())"
   ]
  },
  {
   "cell_type": "code",
   "execution_count": null,
   "metadata": {},
   "outputs": [],
   "source": [
    "print(\"\\n\".join(layers))"
   ]
  },
  {
   "cell_type": "code",
   "execution_count": null,
   "metadata": {},
   "outputs": [],
   "source": [
    "loss_fn  = SoftmaxLoss()\n",
    "loss = loss_fn(model(x_train),y_train)"
   ]
  },
  {
   "cell_type": "code",
   "execution_count": null,
   "metadata": {},
   "outputs": [],
   "source": [
    "loss"
   ]
  },
  {
   "cell_type": "code",
   "execution_count": null,
   "metadata": {},
   "outputs": [],
   "source": [
    "y_train[:1]"
   ]
  },
  {
   "cell_type": "code",
   "execution_count": null,
   "metadata": {},
   "outputs": [],
   "source": []
  }
 ],
 "metadata": {
  "kernelspec": {
   "display_name": ".venv",
   "language": "python",
   "name": "python3"
  },
  "language_info": {
   "codemirror_mode": {
    "name": "ipython",
    "version": 3
   },
   "file_extension": ".py",
   "mimetype": "text/x-python",
   "name": "python",
   "nbconvert_exporter": "python",
   "pygments_lexer": "ipython3",
   "version": "3.10.12"
  }
 },
 "nbformat": 4,
 "nbformat_minor": 2
}

{
 "cells": [
  {
   "cell_type": "code",
   "execution_count": null,
   "metadata": {},
   "outputs": [],
   "source": [
    "import numpy as np"
   ]
  },
  {
   "cell_type": "code",
   "execution_count": null,
   "metadata": {},
   "outputs": [],
   "source": [
    "with open(\"mnist_data/X.npy\",\"rb\") as f:\n",
    "    x_train = np.load(f)[:1000]\n",
    "    \n",
    "with open(\"mnist_data/y.npy\",\"rb\") as f:\n",
    "    y_train = np.load(f)[:1000]"
   ]
  },
  {
   "cell_type": "code",
   "execution_count": null,
   "metadata": {},
   "outputs": [],
   "source": [
    "# ReLU activation\n",
    "class ReLU:\n",
    "    def __call__(self,x):\n",
    "        return np.where(x > 0,x,0)"
   ]
  },
  {
   "cell_type": "code",
   "execution_count": null,
   "metadata": {},
   "outputs": [],
   "source": [
    "# sigmoid activation\n",
    "\n",
    "class Sigmoid:\n",
    "    def __call__(self,x):\n",
    "        max_x = np.max(x)\n",
    "        return np.exp(x - max_x) / (1 + np.exp(x - max_x))\n",
    "    "
   ]
  },
  {
   "cell_type": "code",
   "execution_count": null,
   "metadata": {},
   "outputs": [],
   "source": [
    "# base class \n",
    "class Base:\n",
    "    def __call__(self,x):\n",
    "       return  self.forward(x)\n",
    "    \n",
    "    def paramters(self):\n",
    "        return \n",
    "    \n",
    "    def __repr__(self)"
   ]
  },
  {
   "cell_type": "code",
   "execution_count": null,
   "metadata": {},
   "outputs": [],
   "source": [
    "\n",
    "# build a Neuron\n",
    "# a neuron has weights and biases\n",
    "# and does a linear transformation using matrix multiplication\n",
    "\n",
    "\n",
    "class Neuron:\n",
    "    def __init__(self, in_features):\n",
    "        self._w = np.random.rand(in_features, 1)\n",
    "        self._b = np.random.rand(1, 1)\n",
    "\n",
    "    def __repr__(self):\n",
    "        return f\"Neuron(w={self._w.shape},b={self._b.shape})\"\n",
    "\n",
    "    def __call__(self, x):\n",
    "        return x @ self._w + self._b"
   ]
  },
  {
   "cell_type": "code",
   "execution_count": null,
   "metadata": {},
   "outputs": [],
   "source": [
    "# find a way to define a Layer which can hold any number of neurons\n",
    "\n",
    "class Layer:\n",
    "    def __init__(self,in_features,no_of_neurons):\n",
    "        self._in = in_features\n",
    "        self._neurons = [Neuron(in_features) for i in range(no_of_neurons)]\n",
    "        \n",
    "    def __call__(self,x):\n",
    "        assert x.ndim == 2 , \"Input must be a 2D matrix\"\n",
    "        acts = []\n",
    "        for neuron in self._neurons:\n",
    "            acts.append(neuron(x))\n",
    "        return np.concatenate(acts,axis=1)\n",
    "\n"
   ]
  },
  {
   "cell_type": "code",
   "execution_count": null,
   "metadata": {},
   "outputs": [],
   "source": [
    "# neural network using Layer \n",
    "class Net(Base):\n",
    "    def __init__(self,in_features):\n",
    "        self.l1 = Layer(in_features,3)\n",
    "        self.l2 = Layer(3,1)\n",
    "        self.relu = ReLU()\n",
    "        self.sig = Sigmoid()\n",
    "\n",
    "    def forward(self,x):\n",
    "        x = self.relu(self.l1(x))\n",
    "        x = self.sig(self.l2(x))\n",
    "        return x"
   ]
  },
  {
   "cell_type": "code",
   "execution_count": null,
   "metadata": {},
   "outputs": [],
   "source": [
    "# instantiate the Net class\n",
    "model = Net(x_train.shape[1])"
   ]
  },
  {
   "cell_type": "code",
   "execution_count": null,
   "metadata": {},
   "outputs": [],
   "source": [
    "# forward pass using the model\n",
    "model(x_train)"
   ]
  },
  {
   "cell_type": "code",
   "execution_count": null,
   "metadata": {},
   "outputs": [],
   "source": []
  }
 ],
 "metadata": {
  "kernelspec": {
   "display_name": ".venv",
   "language": "python",
   "name": "python3"
  },
  "language_info": {
   "codemirror_mode": {
    "name": "ipython",
    "version": 3
   },
   "file_extension": ".py",
   "mimetype": "text/x-python",
   "name": "python",
   "nbconvert_exporter": "python",
   "pygments_lexer": "ipython3",
   "version": "3.10.12"
  }
 },
 "nbformat": 4,
 "nbformat_minor": 2
}

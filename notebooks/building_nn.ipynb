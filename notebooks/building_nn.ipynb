{
 "cells": [
  {
   "cell_type": "code",
   "execution_count": null,
   "metadata": {},
   "outputs": [],
   "source": [
    "import numpy as np"
   ]
  },
  {
   "cell_type": "code",
   "execution_count": null,
   "metadata": {},
   "outputs": [],
   "source": [
    "# init the network\n",
    "w1 = np.random.random_sample((784, 128))\n",
    "b1 = np.random.random_sample((1, 128))\n",
    "w2 = np.random.random_sample((128, 10))\n",
    "b2 = np.random.random_sample((1, 10))\n",
    "relu = lambda x: np.maximum(x, 0)"
   ]
  },
  {
   "cell_type": "code",
   "execution_count": null,
   "metadata": {},
   "outputs": [],
   "source": [
    "# softmax activation function\n",
    "def softmax(x):\n",
    "    exp_sum = np.sum(np.exp(x), axis=1, keepdims=True)\n",
    "    return np.exp(x) / exp_sum\n",
    "\n",
    "\n",
    "# Cross Entropy loss\n",
    "def crossentropyloss(x, y):\n",
    "    x = softmax(x)\n",
    "    loss = -np.log(x[np.arange(len(y)), y])\n",
    "    return loss.mean()"
   ]
  },
  {
   "cell_type": "code",
   "execution_count": null,
   "metadata": {},
   "outputs": [],
   "source": [
    "x = np.random.randn(2, 784)\n",
    "y = np.random.randint(0, 10, (2,))"
   ]
  },
  {
   "cell_type": "code",
   "execution_count": null,
   "metadata": {},
   "outputs": [],
   "source": [
    "# Forward pass\n",
    "def forward(x):\n",
    "    x = x.dot(w1) + b1\n",
    "    x = relu(x)\n",
    "    x = x.dot(w2) + b2\n",
    "    return x"
   ]
  },
  {
   "cell_type": "code",
   "execution_count": null,
   "metadata": {},
   "outputs": [],
   "source": [
    "loss = crossentropyloss(forward(x),y)"
   ]
  },
  {
   "cell_type": "code",
   "execution_count": null,
   "metadata": {},
   "outputs": [],
   "source": [
    "loss"
   ]
  },
  {
   "cell_type": "code",
   "execution_count": null,
   "metadata": {},
   "outputs": [],
   "source": []
  }
 ],
 "metadata": {
  "kernelspec": {
   "display_name": ".venv",
   "language": "python",
   "name": "python3"
  },
  "language_info": {
   "codemirror_mode": {
    "name": "ipython",
    "version": 3
   },
   "file_extension": ".py",
   "mimetype": "text/x-python",
   "name": "python",
   "nbconvert_exporter": "python",
   "pygments_lexer": "ipython3",
   "version": "3.11.9"
  }
 },
 "nbformat": 4,
 "nbformat_minor": 2
}

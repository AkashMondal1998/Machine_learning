{
 "cells": [
  {
   "cell_type": "code",
   "execution_count": null,
   "metadata": {},
   "outputs": [],
   "source": [
    "import torch.nn as nn\n",
    "import numpy as np\n",
    "import torch\n",
    "from tqdm import trange\n",
    "import matplotlib.pyplot as plt\n",
    "import torchvision\n",
    "%matplotlib inline"
   ]
  },
  {
   "cell_type": "code",
   "execution_count": null,
   "metadata": {},
   "outputs": [],
   "source": [
    "# load the MNIST DATASET\n",
    "training_data = torchvision.datasets.MNIST(root=\"mnist_data\",train=True,download=True,transform=torchvision.transforms.ToTensor())\n",
    "testing_data = torchvision.datasets.MNIST(root=\"mnist_data\",train=False,download=True,transform=torchvision.transforms.ToTensor())"
   ]
  },
  {
   "cell_type": "code",
   "execution_count": null,
   "metadata": {},
   "outputs": [],
   "source": [
    "device = torch.device(\"cuda\" if torch.cuda.is_available() else \"cpu\")"
   ]
  },
  {
   "cell_type": "code",
   "execution_count": null,
   "metadata": {},
   "outputs": [],
   "source": [
    "# Reshaping the tensors\n",
    "x_train,y_train = training_data.data.reshape(-1,28*28).double(),training_data.targets\n",
    "x_test,y_test = testing_data.data.reshape(-1,28*28).double(),testing_data.targets"
   ]
  },
  {
   "cell_type": "code",
   "execution_count": null,
   "metadata": {},
   "outputs": [],
   "source": [
    "# Model\n",
    "class Net(nn.Module):\n",
    "    def __init__(self):\n",
    "        super().__init__()\n",
    "        self.l1 = nn.Linear(784,128)\n",
    "        self.l2 = nn.Linear(128,10)\n",
    "        self.act = nn.ReLU()\n",
    "    \n",
    "    def forward(self,x):\n",
    "        x = self.act(self.l1(x))\n",
    "        x = self.l2(x)\n",
    "        return x\n",
    "\n",
    "model = Net().double()"
   ]
  },
  {
   "cell_type": "code",
   "execution_count": null,
   "metadata": {},
   "outputs": [],
   "source": [
    "# Training\n",
    "loss_fn = nn.CrossEntropyLoss()\n",
    "optimizer = torch.optim.SGD(model.parameters(),momentum=0.3)\n",
    "BS = 32\n",
    "for _ in (t:= trange(5000,colour=\"green\")):\n",
    "     samp = torch.randint(0,x_train.shape[0],(BS,))\n",
    "     optimizer.zero_grad()\n",
    "     loss = loss_fn(model(x_train[samp]),y_train[samp])\n",
    "     loss.backward()\n",
    "     optimizer.step()\n",
    "     out = model(x_train[samp]).softmax(dim=1)\n",
    "     accuracy = (torch.argmax(out,dim=1) == y_train[samp]).double().mean()\n",
    "     t.set_description(f\"Loss = {loss:0.5f} Accuracy {accuracy.item():0.2f}\")"
   ]
  },
  {
   "cell_type": "code",
   "execution_count": null,
   "metadata": {},
   "outputs": [],
   "source": [
    "# Visualize\n",
    "n = torch.randint(0, x_test.shape[0],(1,))\n",
    "plt.title(f\"pred {torch.argmax(model(x_test[n].reshape(1,-1)).softmax(dim=1),dim=1).item()}, label {y_test[n].item()}\")\n",
    "plt.imshow(x_test[n].reshape(28, 28),cmap=\"gray\")"
   ]
  },
  {
   "cell_type": "code",
   "execution_count": null,
   "metadata": {},
   "outputs": [],
   "source": [
    "# Evaluation on the test dataset\n",
    "out = model(x_test).softmax(dim=1)\n",
    "accuracy = (torch.argmax(out,dim=1) == y_test).double().mean().item()\n",
    "print(f\"{accuracy * 100:0.2f}\")"
   ]
  },
  {
   "cell_type": "markdown",
   "metadata": {},
   "source": [
    "Forward pass using numpy"
   ]
  },
  {
   "cell_type": "code",
   "execution_count": null,
   "metadata": {},
   "outputs": [],
   "source": [
    "np.set_printoptions(precision=4)"
   ]
  },
  {
   "cell_type": "code",
   "execution_count": null,
   "metadata": {},
   "outputs": [],
   "source": [
    "x = x_train.numpy()\n",
    "y = y_train.numpy()"
   ]
  },
  {
   "cell_type": "code",
   "execution_count": null,
   "metadata": {},
   "outputs": [],
   "source": [
    "# softmax activation function\n",
    "def softmax(x):\n",
    "    exp_sum = np.sum(np.exp(x), axis=1,keepdims=True)\n",
    "    return np.exp(x) / exp_sum\n",
    "\n",
    "\n",
    "# Cross Entropy loss\n",
    "def crossentropyloss(x, y):\n",
    "    x = softmax(x)\n",
    "    loss = -np.log(x[range(len(y)), y])\n",
    "    return loss.mean()"
   ]
  },
  {
   "cell_type": "code",
   "execution_count": null,
   "metadata": {},
   "outputs": [],
   "source": [
    "w1 = model.l1.weight.detach().numpy().T\n",
    "w2 = model.l2.weight.detach().numpy().T\n",
    "b1 = model.l1.bias.detach().numpy().reshape(1,-1)\n",
    "b2 = model.l2.bias.detach().numpy().reshape(1,-1)\n"
   ]
  },
  {
   "cell_type": "code",
   "execution_count": null,
   "metadata": {},
   "outputs": [],
   "source": [
    "relu = lambda x: np.maximum(x, 0)\n",
    "# Forward pass\n",
    "def forward(x):\n",
    "    x = x @ w1 + b1\n",
    "    x = relu(x)\n",
    "    x = x @ w2 + b2\n",
    "    return x"
   ]
  },
  {
   "cell_type": "code",
   "execution_count": null,
   "metadata": {},
   "outputs": [],
   "source": [
    "softmax(forward(x[0]))"
   ]
  },
  {
   "cell_type": "code",
   "execution_count": null,
   "metadata": {},
   "outputs": [],
   "source": [
    "model(x_train)[:1].softmax(dim=1)"
   ]
  },
  {
   "cell_type": "code",
   "execution_count": null,
   "metadata": {},
   "outputs": [],
   "source": [
    "crossentropyloss(forward(x),y)"
   ]
  },
  {
   "cell_type": "code",
   "execution_count": null,
   "metadata": {},
   "outputs": [],
   "source": [
    "# Torch loss function \n",
    "nn.functional.cross_entropy(model(x_train),y_train).item()"
   ]
  },
  {
   "cell_type": "code",
   "execution_count": null,
   "metadata": {},
   "outputs": [],
   "source": []
  }
 ],
 "metadata": {
  "kernelspec": {
   "display_name": ".venv",
   "language": "python",
   "name": "python3"
  },
  "language_info": {
   "codemirror_mode": {
    "name": "ipython",
    "version": 3
   },
   "file_extension": ".py",
   "mimetype": "text/x-python",
   "name": "python",
   "nbconvert_exporter": "python",
   "pygments_lexer": "ipython3",
   "version": "3.10.12"
  }
 },
 "nbformat": 4,
 "nbformat_minor": 2
}

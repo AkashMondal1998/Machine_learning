{
 "cells": [
  {
   "cell_type": "code",
   "execution_count": null,
   "metadata": {},
   "outputs": [],
   "source": [
    "import torch.nn as nn\n",
    "import torch\n",
    "from tqdm import trange\n",
    "import matplotlib.pyplot as plt\n",
    "import struct\n",
    "import numpy as np\n",
    "import torchvision"
   ]
  },
  {
   "cell_type": "code",
   "execution_count": null,
   "metadata": {},
   "outputs": [],
   "source": [
    "training_data = torchvision.datasets.MNIST(root=\"mnist_data\",train=True,download=True,transform=torchvision.transforms.ToTensor())\n",
    "testing_data = torchvision.datasets.MNIST(root=\"mnist_data\",train=False,download=True,transform=torchvision.transforms.ToTensor())"
   ]
  },
  {
   "cell_type": "code",
   "execution_count": null,
   "metadata": {},
   "outputs": [],
   "source": [
    "x_train,y_train = training_data.data.reshape(-1,28*28).double(),training_data.targets\n",
    "x_test,y_test = testing_data.data.reshape(-1,28*28).double(),testing_data.targets"
   ]
  },
  {
   "cell_type": "code",
   "execution_count": null,
   "metadata": {},
   "outputs": [],
   "source": [
    "# Model\n",
    "class Net(nn.Module):\n",
    "    def __init__(self):\n",
    "        super().__init__()\n",
    "        self.l1 = nn.Linear(784,128)\n",
    "        self.l2 = nn.Linear(128,10)\n",
    "        self.act = nn.ReLU()\n",
    "    \n",
    "    def forward(self,x):\n",
    "        x = self.act(self.l1(x))\n",
    "        x = self.l2(x)\n",
    "        return x\n",
    "\n",
    "model = Net().double()"
   ]
  },
  {
   "cell_type": "code",
   "execution_count": null,
   "metadata": {},
   "outputs": [],
   "source": [
    "model"
   ]
  },
  {
   "cell_type": "code",
   "execution_count": null,
   "metadata": {},
   "outputs": [],
   "source": [
    "# Training\n",
    "loss_fn = nn.CrossEntropyLoss()\n",
    "optimizer = torch.optim.Adam(model.parameters())\n",
    "BS = 32\n",
    "for _ in (t:= trange(1500,colour=\"green\")):\n",
    "     samp = torch.randint(0,x_train.shape[0],(BS,))\n",
    "     optimizer.zero_grad()\n",
    "     loss = loss_fn(model(x_train[samp]),y_train[samp])\n",
    "     loss.backward()\n",
    "     optimizer.step()\n",
    "     out = model(x_train[samp]).softmax(dim=1)\n",
    "     accuracy = (torch.argmax(out,dim=1) == y_train[samp]).double().mean()\n",
    "     t.set_description(f\"Loss = {loss:0.2f} Accuracy {accuracy.item():0.2f}\")"
   ]
  },
  {
   "cell_type": "code",
   "execution_count": null,
   "metadata": {},
   "outputs": [],
   "source": [
    "n = torch.randint(0, x_test.shape[0],(1,))\n",
    "plt.title(f\"pred {torch.argmax(model(x_test[n].reshape(1,-1)).softmax(dim=1),dim=1).item()}, label {y_test[n].item()}\")\n",
    "plt.imshow(x_test[n].reshape(28, 28),cmap=\"gray\")"
   ]
  }
 ],
 "metadata": {
  "kernelspec": {
   "display_name": ".venv",
   "language": "python",
   "name": "python3"
  },
  "language_info": {
   "codemirror_mode": {
    "name": "ipython",
    "version": 3
   },
   "file_extension": ".py",
   "mimetype": "text/x-python",
   "name": "python",
   "nbconvert_exporter": "python",
   "pygments_lexer": "ipython3",
   "version": "3.10.12"
  }
 },
 "nbformat": 4,
 "nbformat_minor": 2
}

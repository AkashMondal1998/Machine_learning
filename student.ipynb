{
 "cells": [
  {
   "cell_type": "code",
   "execution_count": 1,
   "metadata": {},
   "outputs": [],
   "source": [
    "import torch"
   ]
  },
  {
   "cell_type": "code",
   "execution_count": 2,
   "metadata": {},
   "outputs": [],
   "source": [
    "x = torch.tensor(\n",
    "    [[2104, 5, 1, 45], [1416, 3, 2, 40], [852, 2, 1, 35]], dtype=torch.float32\n",
    ")\n",
    "y = torch.tensor([460, 232, 178], dtype=torch.float32)\n",
    "w = torch.zeros(x.shape[1], requires_grad=True)\n",
    "b = torch.tensor(0.0, requires_grad=True)"
   ]
  },
  {
   "cell_type": "code",
   "execution_count": 3,
   "metadata": {},
   "outputs": [],
   "source": [
    "\n",
    "def normalize(x):\n",
    "    max = torch.max(x,dim=0).values\n",
    "    min = torch.min(x,dim=0).values\n",
    "    mean = torch.mean(x,dim=0)\n",
    "    return (x - mean)/(max - min)"
   ]
  },
  {
   "cell_type": "code",
   "execution_count": 4,
   "metadata": {},
   "outputs": [
    {
     "data": {
      "text/plain": [
       "tensor([[ 0.5165,  0.5556, -0.3333,  0.5000],\n",
       "        [-0.0330, -0.1111,  0.6667,  0.0000],\n",
       "        [-0.4835, -0.4444, -0.3333, -0.5000]])"
      ]
     },
     "execution_count": 4,
     "metadata": {},
     "output_type": "execute_result"
    }
   ],
   "source": [
    "x = normalize(x)\n",
    "x"
   ]
  },
  {
   "cell_type": "code",
   "execution_count": 5,
   "metadata": {},
   "outputs": [],
   "source": [
    "def loss():\n",
    "    loss = 0.0\n",
    "    for i in range(x.shape[0]):\n",
    "        loss += torch.square((torch.dot(x[i], w) + b) - y[i])\n",
    "    return loss / (2 * x.shape[0])"
   ]
  },
  {
   "cell_type": "code",
   "execution_count": 6,
   "metadata": {},
   "outputs": [],
   "source": [
    "l = 5.0e-7"
   ]
  },
  {
   "cell_type": "code",
   "execution_count": 7,
   "metadata": {},
   "outputs": [
    {
     "name": "stdout",
     "output_type": "stream",
     "text": [
      "CPU times: user 170 ms, sys: 13.9 ms, total: 184 ms\n",
      "Wall time: 183 ms\n"
     ]
    }
   ],
   "source": [
    "%%time\n",
    "for i in range(1000):\n",
    "    loss().backward()\n",
    "    with torch.no_grad():\n",
    "        w -= l * w.grad\n",
    "        b -= l * b.grad\n",
    "        w.grad.zero_()\n",
    "        b.grad.zero_()"
   ]
  },
  {
   "cell_type": "code",
   "execution_count": 8,
   "metadata": {},
   "outputs": [
    {
     "data": {
      "text/plain": [
       "tensor(49472.2656, grad_fn=<DivBackward0>)"
      ]
     },
     "execution_count": 8,
     "metadata": {},
     "output_type": "execute_result"
    }
   ],
   "source": [
    "loss()"
   ]
  },
  {
   "cell_type": "code",
   "execution_count": 9,
   "metadata": {},
   "outputs": [
    {
     "data": {
      "text/plain": [
       "tensor([ 0.0240,  0.0251, -0.0097,  0.0235], requires_grad=True)"
      ]
     },
     "execution_count": 9,
     "metadata": {},
     "output_type": "execute_result"
    }
   ],
   "source": [
    "w"
   ]
  },
  {
   "cell_type": "code",
   "execution_count": 10,
   "metadata": {},
   "outputs": [],
   "source": [
    "def predict(x, y, w):\n",
    "    for i in range(x.shape[0]):\n",
    "        pred = torch.dot(x[i], w)\n",
    "        print(f\"Predicted {pred:0.2f}    Expected {y[i]}  Diff {torch.abs(pred - y[i])}\")"
   ]
  },
  {
   "cell_type": "code",
   "execution_count": 11,
   "metadata": {},
   "outputs": [
    {
     "name": "stdout",
     "output_type": "stream",
     "text": [
      "Predicted 0.04    Expected 460.0  Diff 459.9587097167969\n",
      "Predicted -0.01    Expected 232.0  Diff 232.01002502441406\n",
      "Predicted -0.03    Expected 178.0  Diff 178.03128051757812\n"
     ]
    }
   ],
   "source": [
    "predict(x, y, w)"
   ]
  },
  {
   "cell_type": "code",
   "execution_count": 3,
   "metadata": {},
   "outputs": [],
   "source": [
    "class LinearRegression:\n",
    "    def __init__(self,t_in,t_out):\n",
    "        self._in = t_in\n",
    "        self._out = t_out\n",
    "        self.w = torch.zeros(t_in.shape[1], requires_grad=True)\n",
    "        self.b = torch.tensor(0.0, requires_grad=True)\n",
    "\n",
    "    def normalize(self):\n",
    "        max = torch.max(self._in,dim=0).values\n",
    "        min = torch.min(self._in,dim=0).values\n",
    "        mean = torch.mean(self._in,dim=0)\n",
    "        self._in = (self._in - mean)/(max - min)\n",
    "\n",
    "    @property\n",
    "    def _loss(self):\n",
    "        loss = 0.0\n",
    "        for i in range(self._in.shape[0]):\n",
    "            loss += torch.square((torch.dot(self._in[i], w) + b) - self._out[i])\n",
    "        return loss / (2 * self._in.shape[0])\n",
    "    \n",
    "    def train(self,epochs,l_rate):\n",
    "        for _ in range(epochs):\n",
    "            self._loss.backward()\n",
    "            with torch.no_grad():\n",
    "                self.w -= l_rate * self.w.grad\n",
    "                self.b -= l_rate * self.b.grad\n",
    "                self.w.grad.zero_()\n",
    "                self.b.grad.zero_()\n",
    "\n",
    "    def predict(x,y):\n",
    "        for i in range(x.shape[0]):\n",
    "            pred = torch.dot(x[i], w)\n",
    "            print(f\"Predicted {pred:0.2f}    Expected {y[i]}  Diff {torch.abs(pred - y[i])}\")"
   ]
  },
  {
   "cell_type": "code",
   "execution_count": 4,
   "metadata": {},
   "outputs": [
    {
     "data": {
      "text/plain": [
       "tensor([[2.1040e+03, 5.0000e+00, 1.0000e+00, 4.5000e+01],\n",
       "        [1.4160e+03, 3.0000e+00, 2.0000e+00, 4.0000e+01],\n",
       "        [8.5200e+02, 2.0000e+00, 1.0000e+00, 3.5000e+01]])"
      ]
     },
     "execution_count": 4,
     "metadata": {},
     "output_type": "execute_result"
    }
   ],
   "source": [
    "x"
   ]
  },
  {
   "cell_type": "code",
   "execution_count": 5,
   "metadata": {},
   "outputs": [],
   "source": [
    "model = LinearRegression(x,y)"
   ]
  },
  {
   "cell_type": "code",
   "execution_count": 6,
   "metadata": {},
   "outputs": [
    {
     "data": {
      "text/plain": [
       "tensor([[2.1040e+03, 5.0000e+00, 1.0000e+00, 4.5000e+01],\n",
       "        [1.4160e+03, 3.0000e+00, 2.0000e+00, 4.0000e+01],\n",
       "        [8.5200e+02, 2.0000e+00, 1.0000e+00, 3.5000e+01]])"
      ]
     },
     "execution_count": 6,
     "metadata": {},
     "output_type": "execute_result"
    }
   ],
   "source": [
    "model._in"
   ]
  },
  {
   "cell_type": "code",
   "execution_count": 7,
   "metadata": {},
   "outputs": [],
   "source": [
    "model.normalize()"
   ]
  },
  {
   "cell_type": "code",
   "execution_count": 8,
   "metadata": {},
   "outputs": [
    {
     "data": {
      "text/plain": [
       "tensor([[ 0.5165,  0.5556, -0.3333,  0.5000],\n",
       "        [-0.0330, -0.1111,  0.6667,  0.0000],\n",
       "        [-0.4835, -0.4444, -0.3333, -0.5000]])"
      ]
     },
     "execution_count": 8,
     "metadata": {},
     "output_type": "execute_result"
    }
   ],
   "source": [
    "model._in"
   ]
  },
  {
   "cell_type": "code",
   "execution_count": 11,
   "metadata": {},
   "outputs": [],
   "source": [
    "model._loss.backward()"
   ]
  },
  {
   "cell_type": "code",
   "execution_count": 15,
   "metadata": {},
   "outputs": [],
   "source": [
    "model.w.grad"
   ]
  },
  {
   "cell_type": "code",
   "execution_count": null,
   "metadata": {},
   "outputs": [],
   "source": []
  }
 ],
 "metadata": {
  "kernelspec": {
   "display_name": ".venv",
   "language": "python",
   "name": "python3"
  },
  "language_info": {
   "codemirror_mode": {
    "name": "ipython",
    "version": 3
   },
   "file_extension": ".py",
   "mimetype": "text/x-python",
   "name": "python",
   "nbconvert_exporter": "python",
   "pygments_lexer": "ipython3",
   "version": "3.10.12"
  }
 },
 "nbformat": 4,
 "nbformat_minor": 2
}

{
 "cells": [
  {
   "cell_type": "code",
   "execution_count": 1,
   "metadata": {},
   "outputs": [],
   "source": [
    "import pandas as pd\n",
    "import torch"
   ]
  },
  {
   "cell_type": "code",
   "execution_count": 2,
   "metadata": {},
   "outputs": [],
   "source": [
    "df = pd.read_csv(\"Student_Performance.csv\")"
   ]
  },
  {
   "cell_type": "code",
   "execution_count": 3,
   "metadata": {},
   "outputs": [],
   "source": [
    "columns_to_include = [\n",
    "    column\n",
    "    for column in df.columns.values\n",
    "    if column != \"Extracurricular Activities\" and column != \"Performance Index\"\n",
    "]"
   ]
  },
  {
   "cell_type": "code",
   "execution_count": 4,
   "metadata": {},
   "outputs": [],
   "source": [
    "x_train = torch.tensor(df[columns_to_include].values[:7000], dtype=torch.float32)\n",
    "y_train = torch.tensor(df[\"Performance Index\"].values[:7000], dtype=torch.float32)\n",
    "x_test = torch.tensor(df[columns_to_include].values[7000:], dtype=torch.float32)\n",
    "y_test = torch.tensor(df[\"Performance Index\"].values[7000:], dtype=torch.float32)"
   ]
  },
  {
   "cell_type": "code",
   "execution_count": 5,
   "metadata": {},
   "outputs": [
    {
     "data": {
      "text/plain": [
       "'x_train = x_train.cuda()\\ny_train = y_train.cuda()\\nx_test = x_test.cuda()\\ny_test = y_test.cuda()'"
      ]
     },
     "execution_count": 5,
     "metadata": {},
     "output_type": "execute_result"
    }
   ],
   "source": [
    "# x_train = x_train.cuda()\n",
    "# y_train = y_train.cuda()\n",
    "# x_test = x_test.cuda()\n",
    "# y_test = y_test.cuda()"
   ]
  },
  {
   "cell_type": "code",
   "execution_count": 6,
   "metadata": {},
   "outputs": [
    {
     "data": {
      "text/plain": [
       "(device(type='cpu'),\n",
       " device(type='cpu'),\n",
       " device(type='cpu'),\n",
       " device(type='cpu'))"
      ]
     },
     "execution_count": 6,
     "metadata": {},
     "output_type": "execute_result"
    }
   ],
   "source": [
    "x_train.device, x_test.device, y_train.device, y_test.device"
   ]
  },
  {
   "cell_type": "code",
   "execution_count": 7,
   "metadata": {},
   "outputs": [],
   "source": [
    "from regression import LinearRegression, train"
   ]
  },
  {
   "cell_type": "code",
   "execution_count": 8,
   "metadata": {},
   "outputs": [],
   "source": [
    "model = LinearRegression(x_train.shape[1])"
   ]
  },
  {
   "cell_type": "code",
   "execution_count": 9,
   "metadata": {},
   "outputs": [],
   "source": [
    "# model.cuda()"
   ]
  },
  {
   "cell_type": "code",
   "execution_count": 10,
   "metadata": {},
   "outputs": [
    {
     "name": "stderr",
     "output_type": "stream",
     "text": [
      "Training: 100%|██████████| 40000/40000 [00:25<00:00, 1541.71epoch/s, Loss=4.74]   \n"
     ]
    }
   ],
   "source": [
    "train(40000, x_train, y_train, model)"
   ]
  },
  {
   "cell_type": "code",
   "execution_count": 13,
   "metadata": {},
   "outputs": [],
   "source": [
    "preds = model(x_test[:10])"
   ]
  },
  {
   "cell_type": "code",
   "execution_count": 14,
   "metadata": {},
   "outputs": [
    {
     "name": "stdout",
     "output_type": "stream",
     "text": [
      "prediction 29.90  Expected 30.0\n",
      "prediction 72.95  Expected 77.0\n",
      "prediction 41.02  Expected 45.0\n",
      "prediction 60.19  Expected 59.0\n",
      "prediction 64.41  Expected 66.0\n",
      "prediction 42.19  Expected 45.0\n",
      "prediction 72.39  Expected 73.0\n",
      "prediction 78.20  Expected 81.0\n",
      "prediction 66.53  Expected 72.0\n",
      "prediction 72.77  Expected 72.0\n"
     ]
    }
   ],
   "source": [
    "for i in range(preds.shape[0]):\n",
    "    print(f\"prediction {preds[i].item():0.2f}  Expected {y_test[:preds.shape[0]][i]}\")"
   ]
  },
  {
   "cell_type": "code",
   "execution_count": null,
   "metadata": {},
   "outputs": [],
   "source": []
  }
 ],
 "metadata": {
  "kernelspec": {
   "display_name": ".venv",
   "language": "python",
   "name": "python3"
  },
  "language_info": {
   "codemirror_mode": {
    "name": "ipython",
    "version": 3
   },
   "file_extension": ".py",
   "mimetype": "text/x-python",
   "name": "python",
   "nbconvert_exporter": "python",
   "pygments_lexer": "ipython3",
   "version": "3.10.12"
  }
 },
 "nbformat": 4,
 "nbformat_minor": 2
}

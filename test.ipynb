{
 "cells": [
  {
   "cell_type": "code",
   "execution_count": 250,
   "metadata": {},
   "outputs": [],
   "source": [
    "import torch\n",
    "from tqdm import tqdm"
   ]
  },
  {
   "cell_type": "code",
   "execution_count": 213,
   "metadata": {},
   "outputs": [],
   "source": [
    "X_train = torch.tensor([[2104, 5, 1, 45], [1416, 3, 2, 40], [852, 2, 1, 35]],dtype=torch.float32)\n",
    "y_train = torch.tensor([460, 232, 178],dtype=torch.float32)"
   ]
  },
  {
   "cell_type": "code",
   "execution_count": 214,
   "metadata": {},
   "outputs": [
    {
     "data": {
      "text/plain": [
       "(tensor([[2.1040e+03, 5.0000e+00, 1.0000e+00, 4.5000e+01],\n",
       "         [1.4160e+03, 3.0000e+00, 2.0000e+00, 4.0000e+01],\n",
       "         [8.5200e+02, 2.0000e+00, 1.0000e+00, 3.5000e+01]]),\n",
       " tensor([460., 232., 178.]))"
      ]
     },
     "execution_count": 214,
     "metadata": {},
     "output_type": "execute_result"
    }
   ],
   "source": [
    "X_train,y_train"
   ]
  },
  {
   "cell_type": "code",
   "execution_count": 215,
   "metadata": {},
   "outputs": [
    {
     "data": {
      "text/plain": [
       "torch.float32"
      ]
     },
     "execution_count": 215,
     "metadata": {},
     "output_type": "execute_result"
    }
   ],
   "source": [
    "X_train.dtype"
   ]
  },
  {
   "cell_type": "code",
   "execution_count": 246,
   "metadata": {},
   "outputs": [],
   "source": [
    "class Regression:\n",
    "    def __init__(self,t_in,t_out):\n",
    "        self.t_in = t_in\n",
    "        self.t_out = t_out\n",
    "        self.w = torch.zeros(t_in.shape[1],requires_grad=True)\n",
    "        self.b = torch.tensor(0.0,requires_grad=True)\n",
    "\n",
    "    @property\n",
    "    def _loss(self):\n",
    "        loss = 0.0\n",
    "        for i in range(self.t_in.shape[0]):\n",
    "            loss += torch.square((torch.dot(self.t_in[i],self.w) + self.b) - self.t_out[i])\n",
    "        return (loss)/(2*self.t_in.shape[0])\n",
    "\n",
    "\n",
    "    def train(self,epochs,l_rate):\n",
    "        for i in tqdm(range(epochs),delay=0.25,total=epochs,desc=\"Training Process\"):\n",
    "            self._loss.backward()\n",
    "            with torch.no_grad():\n",
    "                self.w -= l_rate * self.w.grad\n",
    "                self.b -= l_rate * self.b.grad\n",
    "                self.w.grad.zero_()\n",
    "                self.b.grad.zero_()\n",
    "    \n",
    "    def predict(self,test_data):\n",
    "        preds = torch.zeros(test_data.shape[0])\n",
    "        for i in range(test_data.shape[0]):\n",
    "            preds[i] = torch.dot(test_data[i],self.w) + self.b\n",
    "        return preds\n"
   ]
  },
  {
   "cell_type": "code",
   "execution_count": 247,
   "metadata": {},
   "outputs": [],
   "source": [
    "model = Regression(X_train,y_train)"
   ]
  },
  {
   "cell_type": "code",
   "execution_count": 234,
   "metadata": {},
   "outputs": [
    {
     "data": {
      "text/plain": [
       "(torch.float32, torch.float32)"
      ]
     },
     "execution_count": 234,
     "metadata": {},
     "output_type": "execute_result"
    }
   ],
   "source": [
    "model.w.dtype,model.b.dtype"
   ]
  },
  {
   "cell_type": "code",
   "execution_count": 235,
   "metadata": {},
   "outputs": [
    {
     "data": {
      "text/plain": [
       "torch.float32"
      ]
     },
     "execution_count": 235,
     "metadata": {},
     "output_type": "execute_result"
    }
   ],
   "source": [
    "model.t_in.dtype"
   ]
  },
  {
   "cell_type": "code",
   "execution_count": 248,
   "metadata": {},
   "outputs": [],
   "source": [
    "model.train(epochs=1000,l_rate =5.0e-7)"
   ]
  },
  {
   "cell_type": "code",
   "execution_count": 237,
   "metadata": {},
   "outputs": [
    {
     "data": {
      "text/plain": [
       "(tensor([0., 0., 0., 0.]), tensor(0.))"
      ]
     },
     "execution_count": 237,
     "metadata": {},
     "output_type": "execute_result"
    }
   ],
   "source": [
    "model.w.grad,model.b.grad"
   ]
  },
  {
   "cell_type": "code",
   "execution_count": 243,
   "metadata": {},
   "outputs": [
    {
     "data": {
      "text/plain": [
       "tensor(686.7037, grad_fn=<DivBackward0>)"
      ]
     },
     "execution_count": 243,
     "metadata": {},
     "output_type": "execute_result"
    }
   ],
   "source": [
    "model._loss"
   ]
  },
  {
   "cell_type": "code",
   "execution_count": 244,
   "metadata": {},
   "outputs": [
    {
     "name": "stdout",
     "output_type": "stream",
     "text": [
      "Prediction 426.19 Expected 460.0\n",
      "Prediction 286.17 Expected 232.0\n",
      "Prediction 171.47 Expected 178.0\n"
     ]
    }
   ],
   "source": [
    "for i in range(X_train.shape[0]):\n",
    "    print(f\"Prediction {torch.dot(X_train[i],model.w) + model.b:0.2f} Expected {y_train[i]}\")"
   ]
  },
  {
   "cell_type": "code",
   "execution_count": 249,
   "metadata": {},
   "outputs": [
    {
     "data": {
      "text/plain": [
       "tensor([426.1853, 286.1675, 171.4677], grad_fn=<CopySlices>)"
      ]
     },
     "execution_count": 249,
     "metadata": {},
     "output_type": "execute_result"
    }
   ],
   "source": [
    "model.predict(X_train)"
   ]
  },
  {
   "cell_type": "code",
   "execution_count": null,
   "metadata": {},
   "outputs": [],
   "source": []
  }
 ],
 "metadata": {
  "kernelspec": {
   "display_name": ".venv",
   "language": "python",
   "name": "python3"
  },
  "language_info": {
   "codemirror_mode": {
    "name": "ipython",
    "version": 3
   },
   "file_extension": ".py",
   "mimetype": "text/x-python",
   "name": "python",
   "nbconvert_exporter": "python",
   "pygments_lexer": "ipython3",
   "version": "3.11.8"
  }
 },
 "nbformat": 4,
 "nbformat_minor": 2
}
